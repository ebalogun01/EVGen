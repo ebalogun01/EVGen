{
 "nbformat": 4,
 "nbformat_minor": 0,
 "metadata": {
  "colab": {
   "name": "GMM.ipynb",
   "provenance": [],
   "collapsed_sections": []
  },
  "kernelspec": {
   "name": "python3",
   "display_name": "Python 3"
  },
  "accelerator": "GPU"
 },
 "cells": [
  {
   "cell_type": "markdown",
   "metadata": {
    "id": "T_jvW6W9Hj0V"
   },
   "source": [
    "This file uses a GMM to generate probability distributions around attributes of our charging data\n",
    "The model will use 3 GMMs, One for Charging Start time, one for Power, and last for Charging duration.\n",
    "This completely parametrizes a simple model for EV charging."
   ]
  },
  {
   "cell_type": "code",
   "metadata": {
    "id": "nLgEKsicHzbT",
    "colab": {
     "base_uri": "https://localhost:8080/"
    },
    "outputId": "6697afaf-33a8-43e5-fc43-1ef85339bad9"
   },
   "source": [
    "from google.colab import drive\n",
    "drive.mount(\"/content/drive\")"
   ],
   "execution_count": 1,
   "outputs": [
    {
     "output_type": "stream",
     "text": [
      "Mounted at /content/drive\n"
     ],
     "name": "stdout"
    }
   ]
  },
  {
   "cell_type": "code",
   "metadata": {
    "id": "MZK-HfEDHbxH"
   },
   "source": [
    "import numpy as np\n",
    "import random\n",
    "from sklearn.mixture import GaussianMixture\n",
    "import matplotlib.pyplot as plt\n",
    "import h5py"
   ],
   "execution_count": 2,
   "outputs": []
  },
  {
   "cell_type": "code",
   "metadata": {
    "id": "jEuAMy3-HhON"
   },
   "source": [
    "data_link = \"\"  # Unfortunately training data is proprietary.\n",
    "chargeData = np.load(data_link)"
   ],
   "execution_count": 3,
   "outputs": []
  },
  {
   "cell_type": "code",
   "metadata": {
    "id": "qVyiYIfAIheV"
   },
   "source": [
    "indices = list(range(0, chargeData.shape[0]))"
   ],
   "execution_count": null,
   "outputs": []
  },
  {
   "cell_type": "code",
   "metadata": {
    "id": "AGUM-Usv6bpl"
   },
   "source": [
    "random.shuffle(indices)"
   ],
   "execution_count": null,
   "outputs": []
  },
  {
   "cell_type": "code",
   "metadata": {
    "id": "ntDzG5PUHeMa"
   },
   "source": [
    "test_indices = indices[0:2000]"
   ],
   "execution_count": null,
   "outputs": []
  },
  {
   "cell_type": "code",
   "metadata": {
    "id": "xltrl6k7JZ1O"
   },
   "source": [
    "# Get Train and Test Samples used for the GAN for parity\n",
    "test_data_path = f'{data_link}/data_test.h5'\n",
    "train_data_path = f'{data_link}/data_train.h5'\n",
    "\n",
    "with h5py.File(train_data_path, 'r') as hf:\n",
    "    train_data = hf['data_train'][:]\n",
    "with h5py.File(test_data_path, 'r') as hf:\n",
    "    test_data = hf['data_test'][:]"
   ],
   "execution_count": 23,
   "outputs": []
  },
  {
   "cell_type": "code",
   "metadata": {
    "id": "Gw47Ioyn7BFE"
   },
   "source": [
    "GMM_train_data = train_data"
   ],
   "execution_count": 24,
   "outputs": []
  },
  {
   "cell_type": "code",
   "metadata": {
    "id": "IPcibSeMTB_J",
    "colab": {
     "base_uri": "https://localhost:8080/"
    },
    "outputId": "5f03cdd9-0aaf-4215-ef78-ef42a7f3af6c"
   },
   "source": [
    "GMM_train_data.shape"
   ],
   "execution_count": 25,
   "outputs": [
    {
     "output_type": "execute_result",
     "data": {
      "text/plain": [
       "(17920, 96)"
      ]
     },
     "metadata": {
      "tags": []
     },
     "execution_count": 25
    }
   ]
  },
  {
   "cell_type": "code",
   "metadata": {
    "id": "P_uGxC1oMnDn"
   },
   "source": [
    "charging_powers_X = []\n",
    "charging_powers_Y = []\n",
    "durations = []\n",
    "start_times = []  # using the indices as a proxy for this. Simplifies implementation"
   ],
   "execution_count": 26,
   "outputs": []
  },
  {
   "cell_type": "code",
   "metadata": {
    "id": "qfhBrdFmIUKE"
   },
   "source": [
    "# Extract Charge Start times and store in a list\n",
    "num_samples = GMM_train_data.shape[0]\n",
    "for i in range(num_samples):\n",
    "    sample_i = GMM_train_data[i]\n",
    "    charge_indices = np.nonzero(sample_i)[0]\n",
    "    charge_starttime = charge_indices[0]\n",
    "    charge_endtime = charge_indices[-1]\n",
    "    power_value = np.average(sample_i[charge_starttime:charge_endtime+1])\n",
    "    charging_powers_Y.append([power_value])\n",
    "    charge_duration = charge_endtime - charge_starttime + 1 # in this case, it is equivalent to number of discrete steps in charging session\n",
    "    assert charge_duration > 0\n",
    "    charging_powers_X.append([charge_starttime, charge_duration, power_value])\n",
    "    durations.append(charge_duration)\n",
    "    start_times.append(charge_starttime)\n",
    "\n"
   ],
   "execution_count": 27,
   "outputs": []
  },
  {
   "cell_type": "code",
   "metadata": {
    "id": "ajj6C7GCqvGl"
   },
   "source": [
    "for r in durations:\n",
    "    if r < 0:\n",
    "        print('error')"
   ],
   "execution_count": 28,
   "outputs": []
  },
  {
   "cell_type": "code",
   "metadata": {
    "id": "9KvP5eYSZygk"
   },
   "source": [
    "start_times = np.reshape(start_times, (num_samples, 1))"
   ],
   "execution_count": 30,
   "outputs": []
  },
  {
   "cell_type": "code",
   "metadata": {
    "id": "pQ-ZeSQjb2Nd"
   },
   "source": [
    "charging_powers_X = np.array(charging_powers_X)"
   ],
   "execution_count": 11,
   "outputs": []
  },
  {
   "cell_type": "code",
   "metadata": {
    "id": "5zWN2NmWcEbO",
    "colab": {
     "base_uri": "https://localhost:8080/"
    },
    "outputId": "d319e49f-4e65-4800-dcd4-b26402fe2264"
   },
   "source": [
    "charging_powers_X.shape"
   ],
   "execution_count": 12,
   "outputs": [
    {
     "output_type": "execute_result",
     "data": {
      "text/plain": [
       "(17920, 3)"
      ]
     },
     "metadata": {
      "tags": []
     },
     "execution_count": 12
    }
   ]
  },
  {
   "cell_type": "code",
   "metadata": {
    "id": "wL0GaseFcQQH",
    "colab": {
     "base_uri": "https://localhost:8080/"
    },
    "outputId": "0d615fd3-b7b4-4a91-bf95-ecda96687189"
   },
   "source": [
    "charging_powers_Y = np.array(charging_powers_Y)\n",
    "charging_powers_Y.shape"
   ],
   "execution_count": null,
   "outputs": [
    {
     "output_type": "execute_result",
     "data": {
      "text/plain": [
       "(17920, 1)"
      ]
     },
     "metadata": {
      "tags": []
     },
     "execution_count": 85
    }
   ]
  },
  {
   "cell_type": "code",
   "metadata": {
    "id": "Sw4lnmcxcfjD"
   },
   "source": [
    "durations = np.reshape(durations,  (num_samples, 1))\n",
    "# durations.shape"
   ],
   "execution_count": 13,
   "outputs": []
  },
  {
   "cell_type": "code",
   "metadata": {
    "id": "rJPnr467arFG"
   },
   "source": [
    "gm_powers = GaussianMixture(n_components=125, random_state=0, tol=0.00001, max_iter=50000).fit(charging_powers_X) # Jointly fits time, duration, and power"
   ],
   "execution_count": 15,
   "outputs": []
  },
  {
   "cell_type": "code",
   "metadata": {
    "id": "vSKd3_BXjwbN",
    "colab": {
     "base_uri": "https://localhost:8080/"
    },
    "outputId": "c8c58048-bd6c-43a8-c695-d96c106422da"
   },
   "source": [
    "gm_powers.sample(5)"
   ],
   "execution_count": 16,
   "outputs": [
    {
     "output_type": "execute_result",
     "data": {
      "text/plain": [
       "(array([[5.25031247e+01, 1.20012867e+01, 6.91134923e-01],\n",
       "        [5.88159465e+01, 1.20004820e+01, 4.06360557e-01],\n",
       "        [3.09987434e+01, 8.81245643e+00, 3.35170683e-01],\n",
       "        [7.49369136e+01, 3.00164811e+00, 4.28626657e-01],\n",
       "        [3.74615238e+01, 3.99893997e+00, 7.04000880e-02]]),\n",
       " array([ 46,  46,  97, 100, 124]))"
      ]
     },
     "metadata": {
      "tags": []
     },
     "execution_count": 16
    }
   ]
  },
  {
   "cell_type": "markdown",
   "metadata": {
    "id": "wSMawVZdXwNM"
   },
   "source": []
  },
  {
   "cell_type": "code",
   "metadata": {
    "id": "oS1VZaqUObsT"
   },
   "source": [
    "def generateGMM_samples(n_samples, models):\n",
    "    samples = models.sample(n_samples*2)[0]\n",
    "    end = samples[:, 0] + samples[:, 1] \n",
    "    Samples = np.zeros((n_samples, 96))\n",
    "    sample_count = 0\n",
    "    i, j = 0, 0\n",
    "    while sample_count < n_samples:\n",
    "        load = np.zeros(96)\n",
    "        start_i = round(samples[i, 0]) \n",
    "        end_i = round(end[i])\n",
    "        power = samples[i, 2]\n",
    "        if start_i == end_i or start_i > end_i:\n",
    "            print('Start > end is not possible')\n",
    "            i += 1\n",
    "            continue\n",
    "        load[start_i:end_i] = power\n",
    "        Samples[j, :] = load\n",
    "        sample_count += 1\n",
    "        j += 1\n",
    "        i += 1\n",
    "    return Samples"
   ],
   "execution_count": 17,
   "outputs": []
  },
  {
   "cell_type": "code",
   "metadata": {
    "id": "MRga9kJNWx7H"
   },
   "source": [
    "def plotSamples(samples):\n",
    "    x = list(range(96))\n",
    "    n_samples = samples.shape[0]\n",
    "    for i in range(n_samples):\n",
    "        plt.plot(np.array(x) * 15/60, samples[i,:])\n",
    "    plt.xlabel('Hour of the Day')\n",
    "    plt.ylabel('Power (kW)')\n",
    "    plt.show() "
   ],
   "execution_count": 18,
   "outputs": []
  },
  {
   "cell_type": "code",
   "metadata": {
    "id": "iNNBh_8nmsFp",
    "colab": {
     "base_uri": "https://localhost:8080/"
    },
    "outputId": "984af622-522c-40b9-c6c4-641bf22f172b"
   },
   "source": [
    "# Generate Samples\n",
    "models = gm_powers\n",
    "n_samples = 2500\n",
    "loadSamples = generateGMM_samples(n_samples, models)"
   ],
   "execution_count": 20,
   "outputs": [
    {
     "output_type": "stream",
     "text": [
      "Start > end is not possible\n",
      "Start > end is not possible\n",
      "Start > end is not possible\n",
      "Start > end is not possible\n",
      "Start > end is not possible\n",
      "Start > end is not possible\n",
      "Start > end is not possible\n",
      "Start > end is not possible\n",
      "Start > end is not possible\n",
      "Start > end is not possible\n",
      "Start > end is not possible\n",
      "Start > end is not possible\n"
     ],
     "name": "stdout"
    }
   ]
  },
  {
   "cell_type": "code",
   "metadata": {
    "id": "PNrZY-8tt02R"
   },
   "source": [
    "time_vec = np.array(list(range(96))) * 15/60"
   ],
   "execution_count": 21,
   "outputs": []
  },
  {
   "cell_type": "code",
   "metadata": {
    "id": "gDtfRwzyygPN",
    "colab": {
     "base_uri": "https://localhost:8080/",
     "height": 297
    },
    "outputId": "a9dc8846-f8ff-4b07-8400-780a8727a3e2"
   },
   "source": [
    "# Plot Results\n",
    "\n",
    "fig1, (ax1,ax2, ax3, ax4) = plt.subplots(1,4, figsize=(20, 4))  \n",
    "\n",
    "# Load Expectation Over time\n",
    "ax1.plot(time_vec, np.average(test_data, axis=0))\n",
    "ax1.plot(time_vec, np.average(loadSamples, axis=0))\n",
    "ax1.set_title(\"Expectation of Load Over Time\")\n",
    "ax1.set_xlabel(\"Hour of Day\")\n",
    "ax1.set_ylabel(\"Scaled Power (AC kW)\")\n",
    "\n",
    "# Std\n",
    "ax2.plot(time_vec, np.std(test_data, axis=0), label=\"Real (test set)\")\n",
    "ax2.plot(time_vec, np.std(loadSamples, axis=0), label=\"Generated\")\n",
    "# ax2.legend()\n",
    "ax2.set_title(\"Standard Deviation of Load Over Time\")\n",
    "ax2.set_xlabel(\"Hour of Day\")\n",
    "ax2.set_ylabel(\"Scaled Power (AC kW)\")\n",
    "\n",
    "# Create a ECDF for the real training data\n",
    "test_data_ = test_data.flatten()\n",
    "x_real = np.sort(test_data_)\n",
    "n_real = x_real.shape[0]\n",
    "y_real = np.arange(1, n_real + 1) / n_real\n",
    "ax3.plot(x_real, y_real, label=\"Real (test set)\")\n",
    "ax3.set_ylim([0.7, 1.05])\n",
    "ax3.set_xlim([-0.05, 1.5])\n",
    "\n",
    "# Create a ECDF for the fake generated GMM data\n",
    "g_fake_data = loadSamples.flatten()\n",
    "x_fake = np.sort(g_fake_data)\n",
    "n_fake = x_fake.shape[0]\n",
    "y_fake = np.arange(1, n_fake + 1) / n_fake\n",
    "ax3.plot(x_fake, y_fake, label=\"Generated\")\n",
    "ax3.set_title(\"Empirical CDFs\")\n",
    "ax3.set_ylabel(\"Empirical CDF\")\n",
    "ax3.set_xlabel(\"Actual Power (AC kW)\")\n",
    "\n",
    "# Calculate power spectral density plot\n",
    "ax4.psd(test_data_, label=\"Real (test set)\")\n",
    "ax4.psd(g_fake_data, label=\"Generated\")\n",
    "ax4.set_title(\"PSD\")\n",
    "ax4.grid(False)\n",
    "\n",
    "fig1.tight_layout()"
   ],
   "execution_count": 22,
   "outputs": [
    {
     "output_type": "display_data",
     "data": {
      "image/png": "[encoded data removed]",
      "text/plain": [
       "<Figure size 1440x288 with 4 Axes>"
      ]
     },
     "metadata": {
      "tags": [],
      "needs_background": "light"
     }
    }
   ]
  },
  {
   "cell_type": "code",
   "metadata": {
    "id": "PC4v7ouwtz8T"
   },
   "source": [],
   "execution_count": null,
   "outputs": []
  }
 ]
}
